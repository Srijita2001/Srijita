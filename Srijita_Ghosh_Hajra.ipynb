{
  "nbformat": 4,
  "nbformat_minor": 0,
  "metadata": {
    "colab": {
      "provenance": []
    },
    "kernelspec": {
      "name": "python3",
      "display_name": "Python 3"
    },
    "language_info": {
      "name": "python"
    }
  },
  "cells": [
    {
      "cell_type": "markdown",
      "source": [
        "# Option 3: Recommendation\n",
        "by Srijita Ghosh Hajra\n",
        "\n",
        "Complexity: Intermediate\n",
        "\n",
        "Task: Recommend item to the given customer id for a given date.\n",
        "\n",
        "User Story: User should be able to provide a Customer ID and Date, and program should be able to recommend item to be purchased.\n",
        "\n",
        "Hint: Approach would be given importance over result"
      ],
      "metadata": {
        "id": "IrApCQ1a6tOK"
      }
    },
    {
      "cell_type": "markdown",
      "source": [
        "Overview:\n",
        "In this notebook, I will try to recommend the item with the help of given dataset."
      ],
      "metadata": {
        "id": "An_BGP1nZRF2"
      }
    },
    {
      "cell_type": "markdown",
      "source": [
        "Importing Libraries"
      ],
      "metadata": {
        "id": "2qBG0UvT6_qZ"
      }
    },
    {
      "cell_type": "code",
      "source": [
        "import pandas as pd\n",
        "import numpy as np\n",
        "import warnings\n",
        "warnings.filterwarnings('ignore')"
      ],
      "metadata": {
        "id": "zB_K4e6j5GBW"
      },
      "execution_count": 4,
      "outputs": []
    },
    {
      "cell_type": "code",
      "source": [
        "try:\n",
        "    data = pd.read_csv(\"Online Retail.csv\", encoding='utf-8')\n",
        "except UnicodeDecodeError:\n",
        "    data = pd.read_csv(\"Online Retail.csv\", encoding='latin-1')"
      ],
      "metadata": {
        "id": "4lj3u819YZEB"
      },
      "execution_count": 5,
      "outputs": []
    },
    {
      "cell_type": "markdown",
      "source": [
        "Add new features in csv file"
      ],
      "metadata": {
        "id": "RsSyz5Skz0qu"
      }
    },
    {
      "cell_type": "code",
      "source": [
        "import random\n",
        "\n",
        "# Generate random ratings between 1 and 5 for each customer\n",
        "data['Customer_rating'] = [random.randint(1, 5) for _ in range(len(data))]"
      ],
      "metadata": {
        "id": "1_ZVBAJwGLul"
      },
      "execution_count": 6,
      "outputs": []
    },
    {
      "cell_type": "code",
      "source": [
        "df= data.to_csv('customer.csv', index=False)"
      ],
      "metadata": {
        "id": "WkL-kqQmGZVa"
      },
      "execution_count": 7,
      "outputs": []
    },
    {
      "cell_type": "code",
      "execution_count": 8,
      "metadata": {
        "colab": {
          "base_uri": "https://localhost:8080/"
        },
        "id": "1cAIUoMf4hp4",
        "outputId": "f67e42f5-4e83-4d7a-c97c-2dbcc6e2d975"
      },
      "outputs": [
        {
          "output_type": "stream",
          "name": "stdout",
          "text": [
            "Enter customer ID: 17850\n",
            "Enter invoice date (DD-MM-YYYY): 01-12-2010\n",
            "\n",
            "Recommended items:\n",
            "-----------------------------------------\n",
            "StockCode: 85123A\n",
            "Description: WHITE HANGING HEART T-LIGHT HOLDER\n",
            "Quantity: 13786.0\n",
            "UnitPrice: 2.55\n",
            "CustomerID: 17850.0\n",
            "Country: United Kingdom\n",
            "Customer_rating: 1\n",
            "InvoiceNo: 536365\n",
            "InvoiceDate: 01-12-2010 08:26\n",
            "-----------------------------------------\n",
            "StockCode: 84406B\n",
            "Description: CREAM CUPID HEARTS COAT HANGER\n",
            "Quantity: 509.0\n",
            "UnitPrice: 2.75\n",
            "CustomerID: 17850.0\n",
            "Country: United Kingdom\n",
            "Customer_rating: 3\n",
            "InvoiceNo: 536365\n",
            "InvoiceDate: 01-12-2010 08:26\n",
            "-----------------------------------------\n",
            "StockCode: 84029G\n",
            "Description: KNITTED UNION FLAG HOT WATER BOTTLE\n",
            "Quantity: 1871.0\n",
            "UnitPrice: 3.39\n",
            "CustomerID: 17850.0\n",
            "Country: United Kingdom\n",
            "Customer_rating: 3\n",
            "InvoiceNo: 536365\n",
            "InvoiceDate: 01-12-2010 08:26\n",
            "-----------------------------------------\n",
            "StockCode: 84029E\n",
            "Description: RED WOOLLY HOTTIE WHITE HEART.\n",
            "Quantity: 1878.0\n",
            "UnitPrice: 3.39\n",
            "CustomerID: 17850.0\n",
            "Country: United Kingdom\n",
            "Customer_rating: 4\n",
            "InvoiceNo: 536365\n",
            "InvoiceDate: 01-12-2010 08:26\n",
            "-----------------------------------------\n",
            "StockCode: 82494L\n",
            "Description: WOODEN FRAME ANTIQUE WHITE \n",
            "Quantity: 2337.0\n",
            "UnitPrice: 2.55\n",
            "CustomerID: 17850.0\n",
            "Country: United Kingdom\n",
            "Customer_rating: 2\n",
            "InvoiceNo: 536373\n",
            "InvoiceDate: 01-12-2010 09:02\n",
            "-----------------------------------------\n",
            "StockCode: 82486\n",
            "Description: WOOD S/3 CABINET ANT WHITE FINISH\n",
            "Quantity: 712.0\n",
            "UnitPrice: 6.95\n",
            "CustomerID: 17850.0\n",
            "Country: United Kingdom\n",
            "Customer_rating: 5\n",
            "InvoiceNo: 536373\n",
            "InvoiceDate: 01-12-2010 09:02\n"
          ]
        }
      ],
      "source": [
        "def recommend_items(df, customer_id, invoice_date, n=6,sort_by='rating'):\n",
        "  # Filter data for the given customer\n",
        "  customer_data= df[(df['CustomerID'] == customer_id)]\n",
        "  # Calculate item popularity based on customer's purchase history\n",
        "  item_popularity = customer_data.groupby(['StockCode'])['Quantity'].sum().reset_index()\n",
        "  item_popularity.sort_values(by='Quantity', ascending=False, inplace=True)\n",
        "  # Calculate item choice based on customer's rating choice\n",
        "  item_choice = customer_data.groupby(['StockCode'])['Customer_rating'].sum().reset_index()\n",
        "  item_choice.sort_values(by='Customer_rating', ascending=False, inplace=True)\n",
        "  #item popularity based on purchase history and rating\n",
        "  item_popularity = item_popularity.merge(item_choice, on='StockCode', how='left')\n",
        "  item_popularity.sort_values(by='StockCode', ascending=False, inplace=True)\n",
        "   # Select the top n items based on the items that customers frequently purchase\n",
        "  top_n_items = item_popularity.head(n)\n",
        "   # Return the StockCodes of the top N items\n",
        "  recommended_items = top_n_items['StockCode'].tolist()\n",
        "  # Get the data for the recommended items\n",
        "  recommended_data = df[df['StockCode'].isin(recommended_items)]\n",
        "\n",
        "  # Print the recommended items along with their other attributes\n",
        "  print(\"\\nRecommended items:\")\n",
        "  for item in recommended_items:\n",
        "    item_data = recommended_data[recommended_data['StockCode'] == item]\n",
        "\n",
        "    print(\"-----------------------------------------\")\n",
        "\n",
        "    print(\"StockCode:\", item)\n",
        "    print(\"Description:\", item_data['Description'].values[0])\n",
        "    print(\"Quantity:\", item_data['Quantity'].sum())\n",
        "    print(\"UnitPrice:\", item_data['UnitPrice'].values[0])\n",
        "    print(\"CustomerID:\", item_data['CustomerID'].values[0])\n",
        "    print(\"Country:\", item_data['Country'].values[0])\n",
        "    print(\"Customer_rating:\", item_data['Customer_rating'].values[0])\n",
        "    print(\"InvoiceNo:\", item_data['InvoiceNo'].values[0])\n",
        "    print(\"InvoiceDate:\", item_data['InvoiceDate'].values[0])\n",
        "\n",
        "\n",
        "# Loading the dataset to a Pandas DataFrame\n",
        "df = pd.read_csv('customer.csv')\n",
        "\n",
        "\n",
        "# User Inputs\n",
        "customer_id = int(input(\"Enter customer ID: \"))\n",
        "invoice_date = input(\"Enter invoice date (DD-MM-YYYY): \")\n",
        "recommend_items(df, customer_id, invoice_date)\n"
      ]
    }
  ]
}